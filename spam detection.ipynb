{
 "cells": [
  {
   "cell_type": "markdown",
   "id": "f73bec3e",
   "metadata": {},
   "source": [
    "**Importing Important Libarary**"
   ]
  },
  {
   "cell_type": "code",
   "execution_count": 17,
   "id": "f873ec5a",
   "metadata": {},
   "outputs": [],
   "source": [
    "import numpy as np\n",
    "import pandas as pd\n",
    "from tqdm.notebook import tqdm\n"
   ]
  },
  {
   "cell_type": "markdown",
   "id": "93558ba1",
   "metadata": {},
   "source": [
    "**Reading the DataSet**"
   ]
  },
  {
   "cell_type": "code",
   "execution_count": 18,
   "id": "7ecc50e0",
   "metadata": {},
   "outputs": [
    {
     "data": {
      "text/html": [
       "<div>\n",
       "<style scoped>\n",
       "    .dataframe tbody tr th:only-of-type {\n",
       "        vertical-align: middle;\n",
       "    }\n",
       "\n",
       "    .dataframe tbody tr th {\n",
       "        vertical-align: top;\n",
       "    }\n",
       "\n",
       "    .dataframe thead th {\n",
       "        text-align: right;\n",
       "    }\n",
       "</style>\n",
       "<table border=\"1\" class=\"dataframe\">\n",
       "  <thead>\n",
       "    <tr style=\"text-align: right;\">\n",
       "      <th></th>\n",
       "      <th>v1</th>\n",
       "      <th>v2</th>\n",
       "      <th>Unnamed: 2</th>\n",
       "      <th>Unnamed: 3</th>\n",
       "      <th>Unnamed: 4</th>\n",
       "    </tr>\n",
       "  </thead>\n",
       "  <tbody>\n",
       "    <tr>\n",
       "      <th>0</th>\n",
       "      <td>ham</td>\n",
       "      <td>Go until jurong point, crazy.. Available only ...</td>\n",
       "      <td>NaN</td>\n",
       "      <td>NaN</td>\n",
       "      <td>NaN</td>\n",
       "    </tr>\n",
       "    <tr>\n",
       "      <th>1</th>\n",
       "      <td>ham</td>\n",
       "      <td>Ok lar... Joking wif u oni...</td>\n",
       "      <td>NaN</td>\n",
       "      <td>NaN</td>\n",
       "      <td>NaN</td>\n",
       "    </tr>\n",
       "    <tr>\n",
       "      <th>2</th>\n",
       "      <td>spam</td>\n",
       "      <td>Free entry in 2 a wkly comp to win FA Cup fina...</td>\n",
       "      <td>NaN</td>\n",
       "      <td>NaN</td>\n",
       "      <td>NaN</td>\n",
       "    </tr>\n",
       "    <tr>\n",
       "      <th>3</th>\n",
       "      <td>ham</td>\n",
       "      <td>U dun say so early hor... U c already then say...</td>\n",
       "      <td>NaN</td>\n",
       "      <td>NaN</td>\n",
       "      <td>NaN</td>\n",
       "    </tr>\n",
       "    <tr>\n",
       "      <th>4</th>\n",
       "      <td>ham</td>\n",
       "      <td>Nah I don't think he goes to usf, he lives aro...</td>\n",
       "      <td>NaN</td>\n",
       "      <td>NaN</td>\n",
       "      <td>NaN</td>\n",
       "    </tr>\n",
       "    <tr>\n",
       "      <th>...</th>\n",
       "      <td>...</td>\n",
       "      <td>...</td>\n",
       "      <td>...</td>\n",
       "      <td>...</td>\n",
       "      <td>...</td>\n",
       "    </tr>\n",
       "    <tr>\n",
       "      <th>5567</th>\n",
       "      <td>spam</td>\n",
       "      <td>This is the 2nd time we have tried 2 contact u...</td>\n",
       "      <td>NaN</td>\n",
       "      <td>NaN</td>\n",
       "      <td>NaN</td>\n",
       "    </tr>\n",
       "    <tr>\n",
       "      <th>5568</th>\n",
       "      <td>ham</td>\n",
       "      <td>Will Ì_ b going to esplanade fr home?</td>\n",
       "      <td>NaN</td>\n",
       "      <td>NaN</td>\n",
       "      <td>NaN</td>\n",
       "    </tr>\n",
       "    <tr>\n",
       "      <th>5569</th>\n",
       "      <td>ham</td>\n",
       "      <td>Pity, * was in mood for that. So...any other s...</td>\n",
       "      <td>NaN</td>\n",
       "      <td>NaN</td>\n",
       "      <td>NaN</td>\n",
       "    </tr>\n",
       "    <tr>\n",
       "      <th>5570</th>\n",
       "      <td>ham</td>\n",
       "      <td>The guy did some bitching but I acted like i'd...</td>\n",
       "      <td>NaN</td>\n",
       "      <td>NaN</td>\n",
       "      <td>NaN</td>\n",
       "    </tr>\n",
       "    <tr>\n",
       "      <th>5571</th>\n",
       "      <td>ham</td>\n",
       "      <td>Rofl. Its true to its name</td>\n",
       "      <td>NaN</td>\n",
       "      <td>NaN</td>\n",
       "      <td>NaN</td>\n",
       "    </tr>\n",
       "  </tbody>\n",
       "</table>\n",
       "<p>5572 rows × 5 columns</p>\n",
       "</div>"
      ],
      "text/plain": [
       "        v1                                                 v2 Unnamed: 2  \\\n",
       "0      ham  Go until jurong point, crazy.. Available only ...        NaN   \n",
       "1      ham                      Ok lar... Joking wif u oni...        NaN   \n",
       "2     spam  Free entry in 2 a wkly comp to win FA Cup fina...        NaN   \n",
       "3      ham  U dun say so early hor... U c already then say...        NaN   \n",
       "4      ham  Nah I don't think he goes to usf, he lives aro...        NaN   \n",
       "...    ...                                                ...        ...   \n",
       "5567  spam  This is the 2nd time we have tried 2 contact u...        NaN   \n",
       "5568   ham              Will Ì_ b going to esplanade fr home?        NaN   \n",
       "5569   ham  Pity, * was in mood for that. So...any other s...        NaN   \n",
       "5570   ham  The guy did some bitching but I acted like i'd...        NaN   \n",
       "5571   ham                         Rofl. Its true to its name        NaN   \n",
       "\n",
       "     Unnamed: 3 Unnamed: 4  \n",
       "0           NaN        NaN  \n",
       "1           NaN        NaN  \n",
       "2           NaN        NaN  \n",
       "3           NaN        NaN  \n",
       "4           NaN        NaN  \n",
       "...         ...        ...  \n",
       "5567        NaN        NaN  \n",
       "5568        NaN        NaN  \n",
       "5569        NaN        NaN  \n",
       "5570        NaN        NaN  \n",
       "5571        NaN        NaN  \n",
       "\n",
       "[5572 rows x 5 columns]"
      ]
     },
     "execution_count": 18,
     "metadata": {},
     "output_type": "execute_result"
    }
   ],
   "source": [
    "trained_data = pd.read_csv(\"spam.csv\",encoding = \"latin-1\")\n",
    "trained_data\n"
   ]
  },
  {
   "cell_type": "markdown",
   "id": "6b780feb",
   "metadata": {},
   "source": [
    "**Droping the duplicate Data in the Data Sets**"
   ]
  },
  {
   "cell_type": "code",
   "execution_count": 19,
   "id": "d1109eeb",
   "metadata": {},
   "outputs": [],
   "source": [
    "trained_data.drop_duplicates(inplace =True)\n",
    "trained_data[\"label\"] = trained_data[\"v1\"].map({\"ham\":\"ham\",\"spam\":\"spam\"})\n",
    "\n"
   ]
  },
  {
   "cell_type": "markdown",
   "id": "ac3723ce",
   "metadata": {},
   "source": [
    "**Importing 'train_test_split' model to train our model**"
   ]
  },
  {
   "cell_type": "code",
   "execution_count": 20,
   "id": "9082df2f",
   "metadata": {},
   "outputs": [
    {
     "data": {
      "text/plain": [
       "(5169, 5169)"
      ]
     },
     "execution_count": 20,
     "metadata": {},
     "output_type": "execute_result"
    }
   ],
   "source": [
    "from sklearn.model_selection import train_test_split\n",
    "x = trained_data[\"v2\"]\n",
    "y = trained_data[\"label\"]\n",
    "x_train,x_test,y_train,y_test = train_test_split(x,y,test_size = 0.3,random_state =43)\n",
    "len(x),len(y)\n"
   ]
  },
  {
   "cell_type": "markdown",
   "id": "b23c85a3",
   "metadata": {},
   "source": [
    "**Importing 'TfidfVectorizer' to learn about the feature of the Data Set**"
   ]
  },
  {
   "cell_type": "code",
   "execution_count": 21,
   "id": "43b907fe",
   "metadata": {},
   "outputs": [],
   "source": [
    "from sklearn.feature_extraction.text import TfidfVectorizer\n",
    "vector = TfidfVectorizer()\n",
    "x_train_vector = vector.fit_transform(x_train)\n",
    "x_test_vector = vector.transform(x_test)"
   ]
  },
  {
   "cell_type": "markdown",
   "id": "41a76f8b",
   "metadata": {},
   "source": [
    "**Importing 'MultinomialNB' as a classification model**"
   ]
  },
  {
   "cell_type": "code",
   "execution_count": 57,
   "id": "14ddb821",
   "metadata": {},
   "outputs": [],
   "source": [
    "from sklearn.linear_model import LogisticRegression\n",
    "clf = LogisticRegression()\n",
    "clf.fit(x_train_vector,y_train);"
   ]
  },
  {
   "cell_type": "markdown",
   "id": "3e78808f",
   "metadata": {},
   "source": [
    "**Prediciting the outputs and checking the accuracy & Classification Report  of our Model**"
   ]
  },
  {
   "cell_type": "code",
   "execution_count": 51,
   "id": "28350e98",
   "metadata": {},
   "outputs": [
    {
     "data": {
      "text/plain": [
       "array(['spam', 'ham', 'ham', ..., 'ham', 'ham', 'ham'], dtype=object)"
      ]
     },
     "execution_count": 51,
     "metadata": {},
     "output_type": "execute_result"
    }
   ],
   "source": [
    "y_predict = clf.predict(x_test_vector)\n",
    "y_predict"
   ]
  },
  {
   "cell_type": "code",
   "execution_count": 52,
   "id": "eddb235c",
   "metadata": {},
   "outputs": [
    {
     "data": {
      "text/plain": [
       "0.965183752417795"
      ]
     },
     "execution_count": 52,
     "metadata": {},
     "output_type": "execute_result"
    }
   ],
   "source": [
    "from sklearn.metrics import accuracy_score\n",
    "accuracy = accuracy_score\n",
    "acc = accuracy(y_test,y_predict)\n",
    "acc"
   ]
  },
  {
   "cell_type": "code",
   "execution_count": 53,
   "id": "700c1eef",
   "metadata": {},
   "outputs": [
    {
     "name": "stdout",
     "output_type": "stream",
     "text": [
      "                precision    recall  f1-score   support\n",
      "\n",
      "Legitimate SMS       0.96      1.00      0.98      1355\n",
      "          SPAM       0.99      0.73      0.84       196\n",
      "\n",
      "      accuracy                           0.97      1551\n",
      "     macro avg       0.98      0.86      0.91      1551\n",
      "  weighted avg       0.97      0.97      0.96      1551\n",
      "\n"
     ]
    }
   ],
   "source": [
    "from sklearn.metrics import classification_report\n",
    "report = classification_report\n",
    "reports = report(y_test,y_predict,target_names = [\"Legitimate SMS\",\"SPAM\"])\n",
    "print(reports)\n"
   ]
  },
  {
   "cell_type": "code",
   "execution_count": 62,
   "id": "d944c009",
   "metadata": {},
   "outputs": [
    {
     "data": {
      "application/vnd.jupyter.widget-view+json": {
       "model_id": "c8b8cd30810c4c55b65029134b827557",
       "version_major": 2,
       "version_minor": 0
      },
      "text/plain": [
       "  0%|          | 0/100 [00:00<?, ?it/s]"
      ]
     },
     "metadata": {},
     "output_type": "display_data"
    }
   ],
   "source": [
    "progress_bar = tqdm(total = 100,position = 0,leave = True)\n",
    "for i in range(10,100,10):\n",
    "    progress_bar.update(10)\n",
    "    progress_bar.set_description(f\"progress: {i}%\")\n",
    "progress_bar.close()"
   ]
  },
  {
   "cell_type": "code",
   "execution_count": 55,
   "id": "7257b035",
   "metadata": {},
   "outputs": [
    {
     "name": "stdout",
     "output_type": "stream",
     "text": [
      "Accuracy of the model is : 0.97%\n",
      "classification Reports : \n",
      "                precision    recall  f1-score   support\n",
      "\n",
      "Legitimate SMS       0.96      1.00      0.98      1355\n",
      "          SPAM       0.99      0.73      0.84       196\n",
      "\n",
      "      accuracy                           0.97      1551\n",
      "     macro avg       0.98      0.86      0.91      1551\n",
      "  weighted avg       0.97      0.97      0.96      1551\n",
      "\n"
     ]
    }
   ],
   "source": [
    "print(f\"Accuracy of the model is : {acc:.2f}%\")\n",
    "print(\"classification Reports : \")\n",
    "print(reports)"
   ]
  },
  {
   "cell_type": "code",
   "execution_count": 71,
   "id": "c3ace01e",
   "metadata": {},
   "outputs": [
    {
     "name": "stdout",
     "output_type": "stream",
     "text": [
      "Message: hi! How are you\n",
      "Predicted Label: ham\n",
      "\n"
     ]
    }
   ],
   "source": [
    "example_messages = [\"hi! How are you\"]\n",
    "example_vector = vector.transform(example_messages)\n",
    "\n",
    "# Predict the labels\n",
    "example_predictions = clf.predict(example_vector)\n",
    "for message, label in zip(example_messages, example_predictions):\n",
    "    print(f\"Message: {message}\\nPredicted Label: {label}\\n\")"
   ]
  },
  {
   "cell_type": "code",
   "execution_count": 70,
   "id": "d7e54f46",
   "metadata": {},
   "outputs": [
    {
     "name": "stdout",
     "output_type": "stream",
     "text": [
      "Message: Congratulations! You've won a luxury vacation package worth $10,000! Click here to claim your prize now!\n",
      "Predicted Label: spam\n",
      "\n"
     ]
    }
   ],
   "source": [
    "example_messages = [\"Congratulations! You've won a luxury vacation package worth $10,000! Click here to claim your prize now!\"]\n",
    "example_vector = vector.transform(example_messages)\n",
    "\n",
    "# Predict the labels\n",
    "example_predictions = clf.predict(example_vector)\n",
    "for message, label in zip(example_messages, example_predictions):\n",
    "    print(f\"Message: {message}\\nPredicted Label: {label}\\n\")"
   ]
  }
 ],
 "metadata": {
  "kernelspec": {
   "display_name": "Python 3 (ipykernel)",
   "language": "python",
   "name": "python3"
  },
  "language_info": {
   "codemirror_mode": {
    "name": "ipython",
    "version": 3
   },
   "file_extension": ".py",
   "mimetype": "text/x-python",
   "name": "python",
   "nbconvert_exporter": "python",
   "pygments_lexer": "ipython3",
   "version": "3.11.5"
  }
 },
 "nbformat": 4,
 "nbformat_minor": 5
}
